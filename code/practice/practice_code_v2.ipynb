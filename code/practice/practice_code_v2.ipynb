{
 "cells": [
  {
   "cell_type": "markdown",
   "metadata": {},
   "source": [
    "## 1-1 Get Practice\n",
    "Please find all li tags in the following link  \n",
    "url: https://www.nkust.edu.tw/"
   ]
  },
  {
   "cell_type": "code",
   "execution_count": 1,
   "metadata": {},
   "outputs": [
    {
     "name": "stdout",
     "output_type": "stream",
     "text": [
      "<li><a accesskey=\"U\" href=\"#U\" id=\"AU\" name=\"U\" title=\"上方內容區塊\">:::</a></li>\n",
      "<li><a href=\"/p/17-1000.php\" title=\"網站導覽\">網站導覽</a>|</li>\n",
      "<li><a href=\"https://webap0.nkust.edu.tw/nkust/\" target=\"_blank\" title=\"校務系統(另開新視窗)\">校務系統</a>|</li>\n",
      "<li><a href=\"https://www.lib.nkust.edu.tw/portal/\" target=\"_blank\" title=\"圖書館(另開新視窗)\">圖書館</a>|</li>\n",
      "<li><a href=\"/p/404-1000-4177.php\" title=\"連絡我們\">連絡我們</a>|</li>\n",
      "<li><a href=\"https://secretary.nkust.edu.tw/p/412-1002-135.php?Lang=zh-tw\" target=\"_blank\" title=\"電子報(另開新視窗)\">電子報</a>|</li>\n",
      "<li><a href=\"https://news.nkust.edu.tw\" title=\"公告網站\">公告網站</a>|</li>\n",
      "<li><a href=\"https://www.nkust.edu.tw/p/404-1000-4622.php\" title=\"行事曆\">行事曆</a>|</li>\n",
      "<li><a href=\"http://chpw.nkust.edu.tw/\" target=\"_blank\" title=\"國立高雄科技大學Mail(另開新視窗)\">Mail</a>|</li>\n",
      "<li><a href=\"https://eng.nkust.edu.tw/\" target=\"_blank\" title=\"ENGLISH(另開新視窗)\">ENGLISH</a></li>\n",
      "<li><a href=\"https://www.nkust.edu.tw/p/405-1000-46616,c7048.php\" title=\"未來學生\">未來學生</a>|</li>\n",
      "<li><a href=\"https://www.nkust.edu.tw/p/405-1000-45113,c7048.php\" title=\"在學學生\">在學學生</a>|</li>\n",
      "<li><a href=\"https://www.nkust.edu.tw/p/405-1000-45747,c7048.php\" target=\"_blank\" title=\"國際生(International Students)\">國際生(International Students)</a>|</li>\n",
      "<li><a href=\"https://www.nkust.edu.tw/p/405-1000-45314,c7048.php\" title=\"教師職員\">教師職員</a>|</li>\n",
      "<li><a href=\"https://www.nkust.edu.tw/p/405-1000-45727,c7048.php\" title=\"校友\">校友</a>|</li>\n",
      "<li><a href=\"https://www.nkust.edu.tw/p/405-1000-45749,c7048.php\" title=\"訪客\">訪客</a>|</li>\n",
      "<li id=\"Hln_8\"><a href=\"/app/index.php\" title=\"回首頁\">回首頁</a></li>\n",
      "<li class=\"dropdown\" id=\"Hln_343\"><a class=\"dropdown-toggle\" data-toggle=\"dropdown\" href=\"/p/412-1000-82.php?Lang=zh-tw\" title=\"關於我們\">關於我們</a><ul class=\"dropdown-menu\"><li id=\"Hln_1332\"><a href=\"https://www.nkust.edu.tw/p/412-1000-617.php\" title=\"高科大簡介\">高科大簡介</a></li><li id=\"Hln_1333\"><a href=\"https://www.nkust.edu.tw/p/412-1000-1024.php\" title=\"學校特色\">學校特色</a></li><li id=\"Hln_1334\"><a href=\"https://www.nkust.edu.tw/p/412-1000-1025.php\" title=\"發展願景\">發展願景</a></li><li id=\"Hln_1335\"><a href=\"https://www.nkust.edu.tw/p/412-1000-1047.php\" title=\"重要辦學績效\">重要辦學績效</a></li><li id=\"Hln_1336\"><a href=\"https://secretary.nkust.edu.tw/p/412-1002-135.php?Lang=zh-tw\" target=\"_blank\" title=\"高科電子報(另開新視窗)\">高科電子報</a></li><li id=\"Hln_1337\"><a href=\"https://www.nkust.edu.tw/p/412-1000-1055.php\" title=\"校史專區\">校史專區</a></li><li id=\"Hln_1752\"><a href=\"https://www.nkust.edu.tw/p/412-1000-2797.php\" title=\"高科大散步地圖\">高科大散步地圖</a></li><li id=\"Hln_3828\"><a href=\"/p/412-1000-5514.php\" title=\"無障礙設施導覽圖\">無障礙設施導覽圖</a></li></ul></li>\n",
      "<li id=\"Hln_1332\"><a href=\"https://www.nkust.edu.tw/p/412-1000-617.php\" title=\"高科大簡介\">高科大簡介</a></li>\n",
      "<li id=\"Hln_1333\"><a href=\"https://www.nkust.edu.tw/p/412-1000-1024.php\" title=\"學校特色\">學校特色</a></li>\n",
      "<li id=\"Hln_1334\"><a href=\"https://www.nkust.edu.tw/p/412-1000-1025.php\" title=\"發展願景\">發展願景</a></li>\n",
      "<li id=\"Hln_1335\"><a href=\"https://www.nkust.edu.tw/p/412-1000-1047.php\" title=\"重要辦學績效\">重要辦學績效</a></li>\n",
      "<li id=\"Hln_1336\"><a href=\"https://secretary.nkust.edu.tw/p/412-1002-135.php?Lang=zh-tw\" target=\"_blank\" title=\"高科電子報(另開新視窗)\">高科電子報</a></li>\n",
      "<li id=\"Hln_1337\"><a href=\"https://www.nkust.edu.tw/p/412-1000-1055.php\" title=\"校史專區\">校史專區</a></li>\n",
      "<li id=\"Hln_1752\"><a href=\"https://www.nkust.edu.tw/p/412-1000-2797.php\" title=\"高科大散步地圖\">高科大散步地圖</a></li>\n",
      "<li id=\"Hln_3828\"><a href=\"/p/412-1000-5514.php\" title=\"無障礙設施導覽圖\">無障礙設施導覽圖</a></li>\n",
      "<li id=\"Hln_344\"><a href=\"/p/412-1000-4169.php\" title=\"學術單位\">學術單位</a></li>\n",
      "<li id=\"Hln_345\"><a href=\"/p/412-1000-85.php?Lang=zh-tw\" title=\"行政單位\">行政單位</a></li>\n",
      "<li id=\"Hln_1811\"><a href=\"https://b066.nkust.edu.tw\" target=\"_blank\" title=\"校務程序調整(另開新視窗)\">校務程序調整</a></li>\n",
      "<li id=\"Hln_1172\"><a href=\"https://rule.nkust.edu.tw/\" target=\"_blank\" title=\"法規彙編(另開新視窗)\">法規彙編</a></li>\n",
      "<li id=\"Hln_347\"><a href=\"https://giving.nkust.edu.tw/\" target=\"_blank\" title=\"捐贈興學(另開新視窗)\">捐贈興學</a></li>\n",
      "<li class=\"dropdown\" id=\"Hln_346\"><a class=\"dropdown-toggle\" data-toggle=\"dropdown\" href=\"https://ada.nkust.edu.tw/\" target=\"_blank\" title=\"招生資訊(另開新視窗)\">招生資訊</a><ul class=\"dropdown-menu\"><li id=\"Hln_1644\"><a href=\"https://ada.nkust.edu.tw/\" target=\"_blank\" title=\"招生資訊網(另開新視窗)\">招生資訊網</a></li><li id=\"Hln_1645\"><a href=\"https://cee.nkust.edu.tw/p/426-1024-3.php\" target=\"_blank\" title=\"推教終身學習網(另開新視窗)\">推教終身學習網</a></li></ul></li>\n",
      "<li id=\"Hln_1644\"><a href=\"https://ada.nkust.edu.tw/\" target=\"_blank\" title=\"招生資訊網(另開新視窗)\">招生資訊網</a></li>\n",
      "<li id=\"Hln_1645\"><a href=\"https://cee.nkust.edu.tw/p/426-1024-3.php\" target=\"_blank\" title=\"推教終身學習網(另開新視窗)\">推教終身學習網</a></li>\n",
      "<li id=\"Hln_1173\"><a href=\"https://enterschool.nkust.edu.tw/\" target=\"_blank\" title=\"新生專區(另開新視窗)\">新生專區</a></li>\n",
      "<li id=\"Hln_1278\"><a href=\"https://public.nkust.edu.tw\" target=\"_blank\" title=\"校務資訊公開(另開新視窗)\">校務資訊公開</a></li>\n",
      "<li id=\"Hln_2429\"><a href=\"https://gender.nkust.edu.tw/\" target=\"_blank\" title=\"性別平等專區(另開新視窗)\">性別平等專區</a></li>\n",
      "<li id=\"Hln_2308\"><a href=\"/p/412-1000-3248.php\" title=\"形象識別系統(校徽)下載\">形象識別系統(校徽)下載</a></li>\n",
      "<li id=\"Hln_3782\"><a href=\"https://2019-ncov.nkust.edu.tw/\" target=\"_blank\" title=\"防疫專區(另開新視窗)\">防疫專區</a></li>\n",
      "<li id=\"Hln_3902\"><a href=\"http://higheredu.nkust.edu.tw/\" target=\"_blank\" title=\"高教深耕計畫(另開新視窗)\">高教深耕計畫</a></li>\n",
      "<li class=\"dropdown\" id=\"Hln_4579\"><a class=\"dropdown-toggle\" data-toggle=\"dropdown\" href=\"javascript:void(0)\" title=\"產學服務\">產學服務</a><ul class=\"dropdown-menu\"><li id=\"Hln_4580\"><a href=\"http://ird.nkust.edu.tw/\" target=\"_blank\" title=\"研究發展處(另開新視窗)\">研究發展處</a></li><li id=\"Hln_4581\"><a href=\"https://ord.nkust.edu.tw/\" target=\"_blank\" title=\"產學營運處(另開新視窗)\">產學營運處</a></li><li id=\"Hln_4582\"><a href=\"https://ord.nkust.edu.tw/p/412-1009-6268.php\" target=\"_blank\" title=\"校級研究中心(另開新視窗)\">校級研究中心</a></li></ul></li>\n",
      "<li id=\"Hln_4580\"><a href=\"http://ird.nkust.edu.tw/\" target=\"_blank\" title=\"研究發展處(另開新視窗)\">研究發展處</a></li>\n",
      "<li id=\"Hln_4581\"><a href=\"https://ord.nkust.edu.tw/\" target=\"_blank\" title=\"產學營運處(另開新視窗)\">產學營運處</a></li>\n",
      "<li id=\"Hln_4582\"><a href=\"https://ord.nkust.edu.tw/p/412-1009-6268.php\" target=\"_blank\" title=\"校級研究中心(另開新視窗)\">校級研究中心</a></li>\n",
      "<li id=\"Hln_5305\"><a href=\"/p/404-1000-52522.php\" title=\"四週年校慶\">四週年校慶</a></li>\n",
      "<li class=\"active\"><a data-toggle=\"tab\" href=\"#cmb_1_0\" id=\"sm_a45480fe96b188537370d0bfdf17a469b_0\" tabindex=\"0\" title=\"最新消息\"><h2>最新消息</h2></a></li>\n",
      "<li><a data-toggle=\"tab\" href=\"#cmb_1_1\" id=\"sm_a45480fe96b188537370d0bfdf17a469b_1\" tabindex=\"-1\" title=\"行政公告\"><h2>行政公告</h2></a></li>\n",
      "<li><a data-toggle=\"tab\" href=\"#cmb_1_2\" id=\"sm_a45480fe96b188537370d0bfdf17a469b_2\" tabindex=\"-1\" title=\"學術公告\"><h2>學術公告</h2></a></li>\n",
      "<li><a data-toggle=\"tab\" href=\"#cmb_1_3\" id=\"sm_a45480fe96b188537370d0bfdf17a469b_3\" tabindex=\"-1\" title=\"活動訊息\"><h2>活動訊息</h2></a></li>\n",
      "<li><a data-toggle=\"tab\" href=\"#cmb_1_4\" id=\"sm_a45480fe96b188537370d0bfdf17a469b_4\" tabindex=\"-1\" title=\"校內徵才\"><h2>校內徵才</h2></a></li>\n",
      "<li><a data-toggle=\"tab\" href=\"#cmb_1_5\" id=\"sm_a45480fe96b188537370d0bfdf17a469b_5\" tabindex=\"-1\" title=\"校外職缺\"><h2>校外職缺</h2></a></li>\n",
      "<li>第一校區 824005 高雄市燕巢區大學路1號<br/>\n",
      "\t               811532 高雄市楠梓區卓越路2號<br/>\n",
      "\t電話：07-6011000</li>\n",
      "<li>建工校區 807618 高雄市三民區建工路415號<br/>\n",
      "\t燕巢校區 824004 高雄市燕巢區深中路58號<br/>\n",
      "\t電話：07-3814526</li>\n",
      "<li>楠梓校區 811213 高雄市楠梓區海專路142號<br/>\n",
      "\t電話：07-3617141<br/>\n",
      "\t旗津校區 805301 高雄市旗津區中洲三路482號<br/>\n",
      "\t電話：07-8100888</li>\n",
      "<li><a href=\"/var/file/0/1000/img/75/532034249.pdf\" target=\"_blank\" title=\"【開啟PDF檔】行政單位聯絡窗口(另開新視窗)\">行政單位聯絡窗口</a>|</li>\n",
      "<li><a href=\"https://www.nkust.edu.tw/p/412-1000-1920.php\" title=\"交通資訊\">交通資訊</a>|</li>\n",
      "<li><a href=\"https://www.nkust.edu.tw/p/412-1000-2797.php\" title=\"高科大散步地圖\">高科大散步地圖</a>|</li>\n",
      "<li><a href=\"https://www.nkust.edu.tw/p/404-1000-4421.php\" title=\"隱私保護聲明\">隱私保護聲明</a>|</li>\n",
      "<li><a href=\"https://www.youtube.com/channel/UCk7QGAi2QAFrH63mPPX-apw/\" target=\"_blank\" title=\"高科大youtube(另開新視窗)\"><img alt=\"高科大youtube\" height=\"32\" src=\"/var/file/0/1000/img/2/iconfinder_youtube_circle_294712.png\" style=\"border-width: 0px; border-style: solid;\" width=\"32\"/></a></li>\n",
      "<li><a href=\"https://www.facebook.com/NKUST2018\" target=\"_blank\" title=\"高科大FB(另開新視窗)\"><img alt=\"高科大FB\" height=\"32\" src=\"/var/file/0/1000/img/2/iconfinder_Facebook-icon_380455.png\" style=\"border-width: 0px; border-style: solid;\" width=\"32\"/></a></li>\n",
      "<li><a href=\"https://accessibility.ncc.gov.tw/Applications/Detail?category=20210823115656\" target=\"_blank\" title=\"無障礙網站\"><img alt=\"通過AA檢測等級無障礙網頁檢測\" height=\"31\" src=\"https://accessibility.ncc.gov.tw/ImagesUploads/05bfd164-030e-448f-b83b-37c7dcb01eec.jpg\" style=\"border-width: 0px; border-style: solid;\" title=\"通過AA檢測等級無障礙網頁檢測_另開視窗\" width=\"88\"/> </a></li>\n"
     ]
    }
   ],
   "source": [
    "# -*- coding: utf-8 -*-\n",
    "import requests\n",
    "from bs4 import BeautifulSoup\n",
    "\n",
    "response = requests.get('https://www.nkust.edu.tw/')\n",
    "response.encoding = 'utf-8'\n",
    "\n",
    "#print(response.text)\n",
    "soup = BeautifulSoup(response.text, 'html.parser')\n",
    "all_links = soup.find_all('li')\n",
    "\n",
    "for link in all_links:\n",
    "    print(link)"
   ]
  },
  {
   "cell_type": "markdown",
   "metadata": {},
   "source": [
    "## 1-2 POST Practice\n",
    "Please use POST to find that how many train from \"板橋\" to \"彰化\"  at 12:00 today.  \n",
    "url: https://www.thsrc.com.tw/tw/TimeTable/SearchResult  \n",
    "hint: use json.loads to handle json format"
   ]
  },
  {
   "cell_type": "code",
   "execution_count": 4,
   "metadata": {},
   "outputs": [
    {
     "name": "stdout",
     "output_type": "stream",
     "text": [
      "Train number: 0803, Departure time: 06:15, Destination time: 08:40\n",
      "Train number: 0603, Departure time: 06:40, Destination time: 08:50\n",
      "Train number: 0805, Departure time: 07:00, Destination time: 09:25\n",
      "Train number: 0109, Departure time: 07:20, Destination time: 09:05\n",
      "Train number: 0609, Departure time: 07:35, Destination time: 09:45\n",
      "Train number: 0205, Departure time: 07:40, Destination time: 09:30\n",
      "Train number: 1305, Departure time: 07:50, Destination time: 10:00\n",
      "Train number: 0809, Departure time: 08:00, Destination time: 10:25\n",
      "Train number: 0613, Departure time: 08:10, Destination time: 10:20\n",
      "Train number: 0113, Departure time: 08:20, Destination time: 10:05\n",
      "Train number: 0615, Departure time: 08:35, Destination time: 10:45\n",
      "Train number: 0813, Departure time: 09:00, Destination time: 11:25\n",
      "Train number: 0619, Departure time: 09:10, Destination time: 11:20\n",
      "Train number: 0117, Departure time: 09:20, Destination time: 11:05\n",
      "Train number: 0621, Departure time: 09:35, Destination time: 11:45\n",
      "Train number: 0817, Departure time: 10:00, Destination time: 12:25\n",
      "Train number: 0625, Departure time: 10:10, Destination time: 12:20\n",
      "Train number: 0121, Departure time: 10:20, Destination time: 12:05\n",
      "Train number: 0627, Departure time: 10:35, Destination time: 12:45\n",
      "Train number: 0821, Departure time: 11:00, Destination time: 13:25\n",
      "Train number: 0125, Departure time: 11:20, Destination time: 13:05\n",
      "Train number: 0633, Departure time: 11:35, Destination time: 13:45\n",
      "Train number: 0825, Departure time: 12:00, Destination time: 14:25\n",
      "Train number: 1637, Departure time: 12:10, Destination time: 14:20\n",
      "Train number: 0129, Departure time: 12:20, Destination time: 14:05\n",
      "Train number: 0639, Departure time: 12:35, Destination time: 14:45\n",
      "Train number: 0829, Departure time: 13:00, Destination time: 15:25\n",
      "Train number: 1643, Departure time: 13:10, Destination time: 15:20\n",
      "Train number: 0133, Departure time: 13:20, Destination time: 15:05\n",
      "Train number: 0645, Departure time: 13:35, Destination time: 15:45\n",
      "Train number: 0833, Departure time: 14:00, Destination time: 16:25\n",
      "Train number: 1649, Departure time: 14:10, Destination time: 16:20\n",
      "Train number: 0137, Departure time: 14:20, Destination time: 16:05\n",
      "Train number: 0651, Departure time: 14:35, Destination time: 16:45\n",
      "Train number: 0837, Departure time: 15:00, Destination time: 17:25\n",
      "Train number: 1655, Departure time: 15:10, Destination time: 17:20\n",
      "Train number: 0141, Departure time: 15:20, Destination time: 17:05\n",
      "Train number: 0657, Departure time: 15:35, Destination time: 17:45\n",
      "Train number: 1237, Departure time: 15:40, Destination time: 17:30\n",
      "Train number: 0841, Departure time: 16:00, Destination time: 18:25\n",
      "Train number: 0661, Departure time: 16:10, Destination time: 18:20\n",
      "Train number: 0145, Departure time: 16:20, Destination time: 18:05\n",
      "Train number: 0663, Departure time: 16:35, Destination time: 18:45\n",
      "Train number: 1241, Departure time: 16:40, Destination time: 18:30\n",
      "Train number: 0845, Departure time: 17:00, Destination time: 19:25\n",
      "Train number: 0667, Departure time: 17:10, Destination time: 19:20\n",
      "Train number: 0149, Departure time: 17:20, Destination time: 19:05\n",
      "Train number: 0669, Departure time: 17:35, Destination time: 19:45\n",
      "Train number: 1245, Departure time: 17:40, Destination time: 19:30\n",
      "Train number: 0849, Departure time: 18:00, Destination time: 20:25\n",
      "Train number: 0673, Departure time: 18:10, Destination time: 20:20\n",
      "Train number: 0153, Departure time: 18:20, Destination time: 20:05\n",
      "Train number: 0675, Departure time: 18:35, Destination time: 20:45\n",
      "Train number: 0249, Departure time: 18:40, Destination time: 20:30\n",
      "Train number: 1327, Departure time: 18:50, Destination time: 21:00\n",
      "Train number: 0853, Departure time: 19:00, Destination time: 21:25\n",
      "Train number: 1679, Departure time: 19:10, Destination time: 21:20\n",
      "Train number: 0157, Departure time: 19:20, Destination time: 21:05\n",
      "Train number: 0681, Departure time: 19:35, Destination time: 21:45\n",
      "Train number: 1253, Departure time: 19:40, Destination time: 21:30\n",
      "Train number: 0857, Departure time: 20:00, Destination time: 22:25\n",
      "Train number: 1685, Departure time: 20:10, Destination time: 22:20\n",
      "Train number: 0161, Departure time: 20:20, Destination time: 22:05\n",
      "Train number: 0687, Departure time: 20:35, Destination time: 22:45\n",
      "Train number: 1257, Departure time: 20:40, Destination time: 22:30\n",
      "Train number: 0861, Departure time: 21:00, Destination time: 23:25\n",
      "Train number: 1691, Departure time: 21:10, Destination time: 23:20\n",
      "Train number: 0165, Departure time: 21:20, Destination time: 23:05\n",
      "Train number: 0693, Departure time: 21:30, Destination time: 23:40\n",
      "Train number: 0333, Departure time: 21:45, Destination time: 23:55\n",
      "Train number: 0295, Departure time: 22:05, Destination time: 23:59\n"
     ]
    }
   ],
   "source": [
    "# -*- coding: utf-8 -*-\n",
    "import requests\n",
    "from bs4 import BeautifulSoup\n",
    "import json\n",
    "\n",
    "payload = {\n",
    "\n",
    "\n",
    "\"SearchType\":\"S\",\n",
    "\"Lang\":\"TW\",\n",
    "\"StartStation\":\"NanGang\",\n",
    "\"EndStation\":\"ZuoYing\",\n",
    "\"OutWardSearchDate\":\"2022/03/11\",\n",
    "\"OutWardSearchTime\":\"16:30\",\n",
    "\"ReturnSearchDate\":\"2022/03/11\",\n",
    "\"ReturnSearchTime\":\"16:30\",\n",
    "\"DiscountType\":\"\"\n",
    "    \n",
    "}\n",
    "\n",
    "\n",
    "\n",
    "response = requests.post(\"https://www.thsrc.com.tw/TimeTable/Search\", data = payload)\n",
    "#print(response.text)\n",
    "\n",
    "result = json.loads(response.text)\n",
    "#print(result['data']['DepartureTable']['TrainItem'])\n",
    "\n",
    "for i in result['data']['DepartureTable']['TrainItem']:\n",
    "    print('Train number: {}, Departure time: {}, Destination time: {}'.format(i['TrainNumber'], i['DepartureTime'], i['DestinationTime']))\n"
   ]
  },
  {
   "cell_type": "markdown",
   "metadata": {},
   "source": [
    "## 1-3 Regular Expression Practice\n",
    "Please grab emails in the following link.  \n",
    "url: https://isaac60103.github.io/crawl_course/practice/email_list.html"
   ]
  },
  {
   "cell_type": "code",
   "execution_count": 9,
   "metadata": {},
   "outputs": [
    {
     "name": "stdout",
     "output_type": "stream",
     "text": [
      "['isaac60103@gmail.com', 'isaac60103@ntu.edu.com', 'isaac60103@ntu.com.tw', 'isaac60103@hotmail.edu.tw']\n"
     ]
    }
   ],
   "source": [
    "# -*- coding: utf-8 -*-\n",
    "import requests\n",
    "import re\n",
    "response = requests.get('https://isaac60103.github.io/crawl_course/practice/email_list.html')\n",
    "response.encoding = 'utf-8'\n",
    "\n",
    "pattern = \"[A-Za-z0-9._]+@[A-Za-z.]+\"\n",
    "match = re.findall(pattern, response.text)\n",
    "print(match)"
   ]
  },
  {
   "cell_type": "markdown",
   "metadata": {},
   "source": [
    "## 1-4 Beautifulsoup with Regular Expression Practice\n",
    "Please grab td tags where its content contain \"信義\" in the following link.  \n",
    "url: https://zh.wikipedia.org/wiki/%E4%B8%AD%E8%8F%AF%E6%B0%91%E5%9C%8B%E5%9C%8B%E7%AB%8B%E9%AB%98%E7%B4%9A%E4%B8%AD%E7%AD%89%E5%AD%B8%E6%A0%A1%E5%88%97%E8%A1%A8\n",
    "        "
   ]
  },
  {
   "cell_type": "code",
   "execution_count": 1,
   "metadata": {},
   "outputs": [
    {
     "name": "stdout",
     "output_type": "stream",
     "text": [
      "<td>[106] 大安區和安里信義路三段143號\n",
      "</td>\n",
      "<td>[712] 新化區信義路54號\n",
      "</td>\n",
      "<td>[201] 信義區東信路324號\n",
      "</td>\n"
     ]
    }
   ],
   "source": [
    "import requests\n",
    "from bs4 import BeautifulSoup\n",
    "import re\n",
    "\n",
    "response = requests.get(\"https://zh.wikipedia.org/wiki/%E4%B8%AD%E8%8F%AF%E6%B0%91%E5%9C%8B%E5%9C%8B%E7%AB%8B%E9%AB%98%E7%B4%9A%E4%B8%AD%E7%AD%89%E5%AD%B8%E6%A0%A1%E5%88%97%E8%A1%A8\")\n",
    "\n",
    "soup = BeautifulSoup(response.text, 'html.parser')\n",
    "all_lis = soup.find_all(\"td\", text = re.compile(\"信義\"))\n",
    "\n",
    "for li in all_lis:\n",
    "    print(li)"
   ]
  },
  {
   "cell_type": "markdown",
   "metadata": {},
   "source": [
    "## 1-5 Crawl Image Practice\n",
    "Please download first business card on the  following link:  \n",
    "url: https://www.mrcaca.com/"
   ]
  },
  {
   "cell_type": "code",
   "execution_count": 10,
   "metadata": {},
   "outputs": [
    {
     "name": "stdout",
     "output_type": "stream",
     "text": [
      "https://www.mrcaca.com//images/template/A000089_big.png\n",
      "https://www.mrcaca.com//images/template/A000050_big.png\n",
      "https://www.mrcaca.com//images/template/A000044_big.png\n",
      "https://www.mrcaca.com//images/template/A000031_big.png\n",
      "https://www.mrcaca.com//images/template/A000094_big.png\n",
      "https://www.mrcaca.com//images/template/A000152_big.png\n",
      "https://www.mrcaca.com//images/template/A000098_big.png\n",
      "https://www.mrcaca.com//images/template/A000023_big.png\n",
      "https://www.mrcaca.com//images/template/A000097_big.png\n",
      "https://www.mrcaca.com//images/template/A000071_big.png\n",
      "https://www.mrcaca.com//images/template/A000052_big.png\n",
      "https://www.mrcaca.com//images/template/point/A000107P_big.png\n",
      "https://www.mrcaca.com//images/template/point/A000065P_big.png\n",
      "https://www.mrcaca.com//images/template/point/A000128P_big.png\n",
      "https://www.mrcaca.com//images/template/point/A000067P_big.png\n",
      "https://www.mrcaca.com//images/template/point/A000213P_big.png\n",
      "https://www.mrcaca.com//images/template/point/A000006P_big.png\n",
      "https://www.mrcaca.com//images/template/point/A000129P_big.png\n",
      "https://www.mrcaca.com//images/template/point/A000217P_big.png\n",
      "https://www.mrcaca.com//images/template/point/A000025P_big.png\n",
      "https://www.mrcaca.com//images/template/point/A000022P_big.png\n",
      "https://www.mrcaca.com//images/template/point/A000189P_big.png\n"
     ]
    }
   ],
   "source": [
    "# -*- coding: utf-8 -*-\n",
    "import requests\n",
    "from bs4 import BeautifulSoup\n",
    "from urllib.request import urlretrieve\n",
    "\n",
    "url = 'https://www.mrcaca.com/'\n",
    "response = requests.get(url)\n",
    "response.encoding = 'utf-8'\n",
    "\n",
    "\n",
    "soup = BeautifulSoup(response.text, 'html.parser')\n",
    "#print(soup)\n",
    "all_imgs = soup.find_all('img')\n",
    "#print(all_imgs)\n",
    "for index, img in enumerate(all_imgs):\n",
    "    try:\n",
    "        if 'template' in img['data-src']: \n",
    "            print(url+img['data-src'])\n",
    "            urlretrieve(url+img['data-src'], './card/'+img['data-src'].split('/')[-1])\n",
    "            #break\n",
    "    except:\n",
    "        continue"
   ]
  },
  {
   "cell_type": "markdown",
   "metadata": {},
   "source": [
    "## 1-6 Crawl File Practice\n",
    "Please download any file on the  following link:  \n",
    "url: https://www.go100.com.tw/exam_download_3.php"
   ]
  },
  {
   "cell_type": "code",
   "execution_count": 3,
   "metadata": {},
   "outputs": [],
   "source": [
    "# -*- coding: utf-8 -*-\n",
    "import requests\n",
    "from bs4 import BeautifulSoup\n",
    "from urllib.request import urlretrieve\n",
    "\n",
    "url='https://www.go100.com.tw/exam_download_3.php'\n",
    "response = requests.get(url)\n",
    "response.encoding = 'utf-8'\n",
    "\n",
    "soup = BeautifulSoup(response.text, 'html.parser')\n",
    "#print(soup)\n",
    "all_as = soup.find_all('a')\n",
    "\n",
    "for index, a_tag in enumerate(all_as):\n",
    "    if 'pdf' in a_tag['href']: \t\n",
    "        #print(a_tag['href'])\n",
    "        urlretrieve(a_tag['href'], 'file_tmp.pdf')\n",
    "        break"
   ]
  },
  {
   "cell_type": "code",
   "execution_count": 13,
   "metadata": {},
   "outputs": [
    {
     "name": "stdout",
     "output_type": "stream",
     "text": [
      "https://www.go100.com.tw/file/exam/S110-GSAT/110GSAT_Chinese.pdf\n",
      "110GSAT_Chinese.pdf\n",
      "https://www.go100.com.tw/file/exam/S110-GSAT/110GSAT_Chinese_Answer.pdf\n",
      "110GSAT_Chinese_Answer.pdf\n",
      "https://www.go100.com.tw/file/exam/S110-GSAT/110GSAT_Writing.pdf\n",
      "110GSAT_Writing.pdf\n",
      "https://www.go100.com.tw/file/exam/S110-GSAT/110GSAT_Writing_Instructions.pdf\n",
      "110GSAT_Writing_Instructions.pdf\n",
      "https://www.go100.com.tw/file/exam/S110-GSAT/110GSAT_English.pdf\n",
      "110GSAT_English.pdf\n",
      "https://www.go100.com.tw/file/exam/S110-GSAT/110GSAT_English_Answer.pdf\n",
      "110GSAT_English_Answer.pdf\n",
      "https://www.go100.com.tw/file/exam/S110-GSAT/110GSAT_English_Instructions.pdf\n",
      "110GSAT_English_Instructions.pdf\n",
      "https://www.go100.com.tw/file/exam/S110-GSAT/110GSAT_Math.pdf\n",
      "110GSAT_Math.pdf\n",
      "https://www.go100.com.tw/file/exam/S110-GSAT/110GSAT_Math_Answer.pdf\n",
      "110GSAT_Math_Answer.pdf\n",
      "https://www.go100.com.tw/file/exam/S110-GSAT/110GSAT_Society.pdf\n",
      "110GSAT_Society.pdf\n",
      "https://www.go100.com.tw/file/exam/S110-GSAT/110GSAT_Society_Answer.pdf\n",
      "110GSAT_Society_Answer.pdf\n",
      "https://www.go100.com.tw/file/exam/S110-GSAT/110GSAT_Nature.pdf\n",
      "110GSAT_Nature.pdf\n",
      "https://www.go100.com.tw/file/exam/S110-GSAT/110GSAT_Nature_Answer.pdf\n",
      "110GSAT_Nature_Answer.pdf\n"
     ]
    }
   ],
   "source": [
    "# -*- coding: utf-8 -*-\n",
    "import requests\n",
    "from bs4 import BeautifulSoup\n",
    "from urllib.request import urlretrieve\n",
    "\n",
    "url='https://www.go100.com.tw/exam_download_3.php'\n",
    "response = requests.get(url)\n",
    "response.encoding = 'utf-8'\n",
    "\n",
    "soup = BeautifulSoup(response.text, 'html.parser')\n",
    "#print(soup)\n",
    "all_as = soup.find_all('a')\n",
    "\n",
    "for index, a_tag in enumerate(all_as):\n",
    "    if 'exam/S110-GSAT' in a_tag['href']:\n",
    "        dw_link = 'https://www.go100.com.tw' + a_tag['href'][1:]\n",
    "        file_name = a_tag['href'].split('/')[-1]\n",
    "        print(dw_link)\n",
    "        print(file_name)\n",
    "        urlretrieve(dw_link, './past_paper/'+file_name)"
   ]
  },
  {
   "cell_type": "markdown",
   "metadata": {
    "collapsed": true
   },
   "source": [
    "## 1-7 Create DB and Insert Data"
   ]
  },
  {
   "cell_type": "code",
   "execution_count": 17,
   "metadata": {},
   "outputs": [
    {
     "name": "stdout",
     "output_type": "stream",
     "text": [
      "   index  size  rooms   price\n",
      "0      0  2104      3  399900\n",
      "1      1  1600      3  329900\n",
      "2      2  2400      3  369000\n",
      "3      3  1416      2  232000\n",
      "4      4  3000      4  539900\n"
     ]
    }
   ],
   "source": [
    "# -*- coding: utf-8 -*-\n",
    "import requests\n",
    "import pandas as pd\n",
    "import sqlite3 as sql\n",
    "\n",
    "df = pd.read_csv(\"./house.csv\")\n",
    "# connect to db. if db is not exist, it will create a new one\n",
    "conn = sql.connect(\"house.db\")\n",
    "\n",
    "# insert dataframe into table. If table exist, it would replace it\n",
    "df.to_sql(\"house_table\", conn, if_exists=\"replace\")\n",
    "\n",
    "# query from DB \n",
    "df_query = pd.read_sql_query(\"select * from house_table;\", conn).head()\n",
    "print(df_query.head())"
   ]
  },
  {
   "cell_type": "code",
   "execution_count": null,
   "metadata": {
    "collapsed": true
   },
   "outputs": [],
   "source": []
  }
 ],
 "metadata": {
  "kernelspec": {
   "display_name": "Python 3 (ipykernel)",
   "language": "python",
   "name": "python3"
  },
  "language_info": {
   "codemirror_mode": {
    "name": "ipython",
    "version": 3
   },
   "file_extension": ".py",
   "mimetype": "text/x-python",
   "name": "python",
   "nbconvert_exporter": "python",
   "pygments_lexer": "ipython3",
   "version": "3.8.12"
  }
 },
 "nbformat": 4,
 "nbformat_minor": 2
}
